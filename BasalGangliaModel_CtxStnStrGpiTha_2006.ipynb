{
 "cells": [
  {
   "cell_type": "markdown",
   "metadata": {
    "deletable": true,
    "editable": true
   },
   "source": [
    "# Import modules"
   ]
  },
  {
   "cell_type": "code",
   "execution_count": 1,
   "metadata": {
    "collapsed": true,
    "deletable": true,
    "editable": true
   },
   "outputs": [],
   "source": [
    "import numpy as np\n",
    "import random\n",
    "from matplotlib import pyplot as plt\n",
    "from math import exp"
   ]
  },
  {
   "cell_type": "markdown",
   "metadata": {
    "deletable": true,
    "editable": true
   },
   "source": [
    "# Initial parameters"
   ]
  },
  {
   "cell_type": "code",
   "execution_count": 2,
   "metadata": {
    "collapsed": true,
    "deletable": true,
    "editable": true
   },
   "outputs": [],
   "source": [
    "# Population size\n",
    "n = 1  # useless here\n",
    "\n",
    "# Default Time beginning\n",
    "t = 0\n",
    "\n",
    "# Default trial duration\n",
    "duration = 2.00  # second\n",
    "\n",
    "# Default Time resolution\n",
    "dt = 0.0001  # second 0.0001\n",
    "\n",
    "# Initialization of the random generator (reproductibility !)\n",
    "np.random.seed(1)"
   ]
  },
  {
   "cell_type": "code",
   "execution_count": 3,
   "metadata": {
    "collapsed": true,
    "deletable": true,
    "editable": true
   },
   "outputs": [],
   "source": [
    "connections = [\"CtxTha\", \"StnCtx\", \"StrCtx\", \"GpiStr\", \"GpiStn\", \"ThaGpi\"]\n",
    "structures = [\"Ctx\", \"Stn\", \"Str\", \"Gpi\", \"Tha\"]\n",
    "\n",
    "# Thresholds (if from original paper x200: Leblois et al., 2006)\n",
    "h = {\n",
    "    \"Ctx\": 20.0,\n",
    "    \"Stn\": -17,\n",
    "    \"Str\": 2.0,\n",
    "    \"Gpi\": 20.0,\n",
    "    \"Tha\": -47.0\n",
    "}\n",
    "\n",
    "# inputs\n",
    "I = dict()\n",
    "for stc in structures:\n",
    "    I[stc] = 0\n",
    "\n",
    "Gpi_Ie = 0\n",
    "Gpi_Ii = 0\n",
    "\n",
    "G = {\n",
    "    \"CtxTha\": 0.97,\n",
    "    \"StnCtx\": 2.0,\n",
    "    \"StrCtx\": 0.45,\n",
    "    \"GpiStr\": 12.0,\n",
    "    \"GpiStn\": 3.4,\n",
    "    \"ThaGpi\": 0.3\n",
    "}\n",
    "\n",
    "# tau:\n",
    "tau = {\n",
    "    \"CtxTha\": 0.005,\n",
    "    \"StnCtx\": 0.020,\n",
    "    \"StrCtx\": 0.005,\n",
    "    \"GpiStr\": 0.005,\n",
    "    \"GpiStn\": 0.005,\n",
    "    \"ThaGpi\": 0.005\n",
    "}\n",
    "\n",
    "# Delays:\n",
    "D = {\n",
    "    \"CtxTha\": 0.005,\n",
    "    \"StnCtx\": 0.005,\n",
    "    \"StrCtx\": 0.006,\n",
    "    \"GpiStr\": 0.010,\n",
    "    \"GpiStn\": 0.005,\n",
    "    \"ThaGpi\": 0.005\n",
    "}\n",
    "\n",
    "\n",
    "# Activities at time t:\n",
    "m = dict()\n",
    "\n",
    "# Activities at dt\n",
    "dm = dict()\n",
    "\n",
    "# Connectivity J\n",
    "J = dict()\n",
    "\n",
    "for con in connections:\n",
    "\n",
    "    m[con] = 0\n",
    "    dm[con] = 0\n",
    "    J[con] = 1\n",
    "\n",
    "input_mapping = {\n",
    "    \"Ctx\": \"CtxTha\",\n",
    "    \"Str\": \"StrCtx\",\n",
    "    \"Stn\": \"StnCtx\",\n",
    "    \"Tha\": \"ThaGpi\"\n",
    "}\n",
    "\n",
    "activities_mapping = {\n",
    "    \"CtxTha\": \"Tha\",\n",
    "    \"StrCtx\": \"Ctx\",\n",
    "    \"StnCtx\": \"Ctx\",\n",
    "    \"ThaGpi\": \"Gpi\",\n",
    "    \"GpiStr\": \"Str\",\n",
    "    \"GpiStn\": \"Stn\"\n",
    "}\n",
    "\n",
    "# Noise level (%)  = sigma from paper\n",
    "N = {\n",
    "    \"Ctx\": 0.030,\n",
    "    \"Str\": 0.005,\n",
    "    \"Stn\": 0.020,\n",
    "    \"Gpi\": 0.050,\n",
    "    \"Tha\": 0.050\n",
    "}"
   ]
  },
  {
   "cell_type": "markdown",
   "metadata": {
    "deletable": true,
    "editable": true
   },
   "source": [
    "# Noise Function"
   ]
  },
  {
   "cell_type": "code",
   "execution_count": 4,
   "metadata": {
    "collapsed": true,
    "deletable": true,
    "editable": true
   },
   "outputs": [],
   "source": [
    "# White Gaussian Noise\n",
    "def WGnoise(size=1):\n",
    "    n = np.random.normal(0, 1, size=size)\n",
    "    return n\n",
    "\n",
    "def noise(Z, level):  # Z = size of the population\n",
    "    Z = (np.random.uniform(-level / 2, level / 2, Z)) * Z\n",
    "    return Z"
   ]
  },
  {
   "cell_type": "markdown",
   "metadata": {
    "deletable": true,
    "editable": true
   },
   "source": [
    "# Corrected Input function"
   ]
  },
  {
   "cell_type": "code",
   "execution_count": 5,
   "metadata": {
    "collapsed": true,
    "deletable": true,
    "editable": true
   },
   "outputs": [],
   "source": [
    "# Function returning the corrected Input\n",
    "def Ic(Input=0, threshold=0):\n",
    "    if Input - threshold <= 0:\n",
    "        return 0\n",
    "    else:\n",
    "        return (Input - threshold)"
   ]
  },
  {
   "cell_type": "markdown",
   "metadata": {
    "deletable": true,
    "editable": true
   },
   "source": [
    "# Activity at time t-Delta (delay) function"
   ]
  },
  {
   "cell_type": "code",
   "execution_count": 6,
   "metadata": {
    "collapsed": true,
    "deletable": true,
    "editable": true
   },
   "outputs": [],
   "source": [
    "# function to get the index \"-delay/dt\" in the list representing m(t-Delta)\n",
    "def mdelta(synapse_value, delay, t, dt):\n",
    "    if t < delay:  # if the delay is the time is too small, we take m(t-delta)=0\n",
    "        return 0\n",
    "    else:  # if the time is above or equal to the delay, we can find the m(t-delta)\n",
    "        return synapse_value[int(-delay / dt)]"
   ]
  },
  {
   "cell_type": "markdown",
   "metadata": {
    "deletable": true,
    "editable": true
   },
   "source": [
    "# ================= Simulation Core ================="
   ]
  },
  {
   "cell_type": "code",
   "execution_count": 7,
   "metadata": {
    "collapsed": true,
    "deletable": true,
    "editable": true
   },
   "outputs": [],
   "source": [
    "n_period = int(duration // dt) + 1\n",
    "time_value = np.arange(0, duration, dt)\n",
    "\n",
    "mDelta, value = dict(), dict()\n",
    "\n",
    "for con in connections:\n",
    "    value[con] = np.zeros(n_period)\n",
    "\n",
    "for t in range(1, n_period):\n",
    "\n",
    "    for con in connections:\n",
    "        \n",
    "        value[con][t] = m[con]  # command to add all activities of each population in a list respectively ; \n",
    "        # after each iteration\n",
    "\n",
    "        mDelta[con] = mdelta(value[con][:t + 1], D[con], time_value[t], dt)\n",
    "\n",
    "        m[con] += dm[con]  # we add the activity (dm) to the global activity (m),\n",
    "            # after a step dt ; for all population\n",
    "            # stored in the list (\"PopulationNames\"_value)\n",
    "\n",
    "    # noise_level = WGnoise(len(structures) + 2)\n",
    "    for stc in structures:\n",
    "        if stc == \"Gpi\":\n",
    "            #Gpi_Ie = G[\"GpiStn\"] * J[\"GpiStn\"] * mDelta[\"GpiStn\"] + WGnoise()\n",
    "            #Gpi_Ii = - G[\"GpiStr\"] * J[\"GpiStr\"] * mDelta[\"GpiStr\"] + WGnoise()\n",
    "            I[\"Gpi\"] = G[\"GpiStn\"] * J[\"GpiStn\"] * mDelta[\"GpiStn\"] - G[\"GpiStr\"] * J[\"GpiStr\"] * mDelta[\"GpiStr\"] \\\n",
    "                + WGnoise()\n",
    "        elif stc == \"Tha\":\n",
    "            con = input_mapping[stc]\n",
    "            I[stc] = - G[con] * J[con] * mDelta[con] + WGnoise()\n",
    "        else:\n",
    "            con = input_mapping[stc]\n",
    "            I[stc] = G[con] * J[con] * mDelta[con] + WGnoise()\n",
    "\n",
    "    for con in connections:\n",
    "        # Update of activities\n",
    "        stc = activities_mapping[con]\n",
    "        dm[con] = dt * (-m[con] + Ic(I[stc], h[stc])) / tau[con] + float(noise(1, N[stc]))"
   ]
  },
  {
   "cell_type": "markdown",
   "metadata": {
    "deletable": true,
    "editable": true
   },
   "source": [
    "# Plotting results"
   ]
  },
  {
   "cell_type": "code",
   "execution_count": 8,
   "metadata": {
    "collapsed": false,
    "deletable": true,
    "editable": true
   },
   "outputs": [
    {
     "data": {
      "image/png": "[encoded data removed]",
      "text/plain": [
       "<matplotlib.figure.Figure at 0x7fbd940cf668>"
      ]
     },
     "metadata": {},
     "output_type": "display_data"
    }
   ],
   "source": [
    "plt.plot(time_value, value[\"CtxTha\"], label='Thalamus')\n",
    "plt.plot(time_value, value[\"StrCtx\"], label='CTX->Striatum')\n",
    "plt.plot(time_value, value[\"StnCtx\"], label='CTX->STN')\n",
    "plt.plot(time_value, value[\"GpiStn\"], label='Stn')\n",
    "plt.plot(time_value, value[\"GpiStr\"], label='Str')\n",
    "plt.plot(time_value, value[\"ThaGpi\"], label='GPI')\n",
    "\n",
    "plt.title('Activity over time')\n",
    "plt.ylabel('Activity')\n",
    "plt.xlabel('time')\n",
    "plt.grid()\n",
    "\n",
    "plt.legend(bbox_to_anchor=(1.05, 1), loc=2, borderaxespad=0.)\n",
    "\n",
    "plt.show()"
   ]
  }
 ],
 "metadata": {
  "kernelspec": {
   "display_name": "Python 3",
   "language": "python",
   "name": "python3"
  },
  "language_info": {
   "codemirror_mode": {
    "name": "ipython",
    "version": 3
   },
   "file_extension": ".py",
   "mimetype": "text/x-python",
   "name": "python",
   "nbconvert_exporter": "python",
   "pygments_lexer": "ipython3",
   "version": "3.5.2"
  }
 },
 "nbformat": 4,
 "nbformat_minor": 2
}
