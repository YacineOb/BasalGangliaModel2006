{
 "cells": [
  {
   "cell_type": "markdown",
   "metadata": {
    "deletable": true,
    "editable": true
   },
   "source": [
    "# Import modules"
   ]
  },
  {
   "cell_type": "code",
   "execution_count": 1,
   "metadata": {
    "collapsed": false,
    "deletable": true,
    "editable": true
   },
   "outputs": [],
   "source": [
    "# -*- coding: utf-8 -*-\n",
    "import numpy\n",
    "import random\n",
    "from matplotlib import pyplot as plt\n",
    "from math import exp\n",
    "%matplotlib inline"
   ]
  },
  {
   "cell_type": "markdown",
   "metadata": {
    "deletable": true,
    "editable": true
   },
   "source": [
    "# Initial parameters"
   ]
  },
  {
   "cell_type": "code",
   "execution_count": 2,
   "metadata": {
    "collapsed": false,
    "deletable": true,
    "editable": true
   },
   "outputs": [],
   "source": [
    "# Population size\n",
    "n = 2\n",
    "\n",
    "# Default Time beginning\n",
    "t=0\n",
    "\n",
    "# Default trial duration\n",
    "duration = 2.00 #second\n",
    "\n",
    "# Default Time resolution\n",
    "dt = 0.0001 #second 0.0001\n",
    " \n",
    "# Thresholds (if from paper x200) \n",
    "Cortex_h   = 20.0             \n",
    "Striatum_h = 2.0                 #depends on dopamine level, see below\n",
    "Stn_h      = -17.0              \n",
    "Gpi_h      = 20.0               \n",
    "Thalamus_h = -47.0              \n",
    "\n",
    "####################################### Weights ##########################################\n",
    "CtxTha_G = 0.97                               \n",
    "StnCtx_G = 2.0                             \n",
    "StrCtx_G = 0.45                               #depends on dopamine level, see below\n",
    "GpiStr_G = 12.0                              \n",
    "GpiStn_G = 3.4                              \n",
    "ThaGpi_G = 0.3        \n",
    "\n",
    "# Time constants \n",
    "CtxTha_tau = 0.005 #second\n",
    "StnCtx_tau = 0.020 #second \"5ms for all of the synapses except synapses from cortex to STN for which it's 20ms\"\n",
    "StrCtx_tau = 0.005 #second\n",
    "GpiStr_tau = 0.005 #second\n",
    "GpiStn_tau = 0.005 #second\n",
    "ThaGpi_tau = 0.005 #second\n",
    "\n",
    "\n",
    "# inputs: of each neurons of populations\n",
    "Cortex_I   = []\n",
    "Striatum_I = [] \n",
    "Stn_I      = [] \n",
    "Gpi_I      = [] \n",
    "Gpi_Ie     = [] \n",
    "Gpi_Ii     = [] \n",
    "Thalamus_I = [] \n",
    "\n",
    "# Activities at time t: of each neurons of populations\n",
    "CtxTha_m = []\n",
    "StnCtx_m = [] \n",
    "StrCtx_m = [] \n",
    "GpiStr_m = [] \n",
    "GpiStn_m = []\n",
    "ThaGpi_m = [] \n",
    "\n",
    "# Activities at dt: of each neurons of populations\n",
    "CtxTha_dm  = [] \n",
    "StrCtx_dm  = [] \n",
    "StnCtx_dm  = [] \n",
    "GpiStr_dm  = [] \n",
    "GpiStn_dm  = [] \n",
    "ThaGpi_dm  = [] \n",
    "\n",
    "# Delays:\n",
    "CtxTha_D = 0.005\n",
    "StnCtx_D = 0.005\n",
    "StrCtx_D = 0.006\n",
    "GpiStr_D = 0.01\n",
    "GpiStn_D = 0.005\n",
    "ThaGpi_D = 0.005\n",
    "\n",
    "# Initialization of the random generator (reproductibility)\n",
    "numpy.random.seed(1)"
   ]
  },
  {
   "cell_type": "markdown",
   "metadata": {
    "deletable": true,
    "editable": true
   },
   "source": [
    "# Dopamine dependency : Weight & Threshold"
   ]
  },
  {
   "cell_type": "code",
   "execution_count": 3,
   "metadata": {
    "collapsed": false,
    "deletable": true,
    "editable": true
   },
   "outputs": [],
   "source": [
    "# relative level of Striatal Dopamine Vs Normal (given in %)\n",
    "#\n",
    "#def StrCtx_DG(D):                          #function calculating the Cortex_Striatum Weight \n",
    "#    \"\"\"The function give the weight of the synapse between the Ctx and Str depending on the dopamine level\n",
    "#    according to the 2006 article(A.Leblois et al)\"\"\"\n",
    "#    \n",
    "#    StrCtx_G = 0.75/(1+exp(-0.09*(D-60)))  #depending on the relative Dopamine level D (given in %)\n",
    "#    return StrCtx_G\n",
    "#\n",
    "#def Striatum_Dh(D):                                                  #function calculating the Striatum \n",
    "#    \"\"\"The function give the threshold of the striatum depending on the dopamine level\n",
    "#    according to the 2006 article(A.Leblois et al)\"\"\"\n",
    "#    \n",
    "#    Striatum_h = -0.02 + 0.03 * (1-(1.1/(1+0.1*exp(-0.03*(D-100))))) #Treshold depending on the relative \n",
    "#    return Striatum_h                                                #Dopamine level D (given in %)"
   ]
  },
  {
   "cell_type": "markdown",
   "metadata": {
    "deletable": true,
    "editable": true
   },
   "source": [
    "# Noise Function"
   ]
  },
  {
   "cell_type": "code",
   "execution_count": 4,
   "metadata": {
    "collapsed": true,
    "deletable": true,
    "editable": true
   },
   "outputs": [],
   "source": [
    "#Noise level (%)  = sigma from paper\n",
    "Cortex_N   =   0.030 \n",
    "Striatum_N =   0.005\n",
    "Stn_N      =   0.02\n",
    "Gpi_N      =   0.050\n",
    "Thalamus_N =   0.05"
   ]
  },
  {
   "cell_type": "code",
   "execution_count": 5,
   "metadata": {
    "collapsed": false,
    "deletable": true,
    "editable": true
   },
   "outputs": [],
   "source": [
    "def noise(Z, level):    #Z = size of the population\n",
    "        \"\"\"generates Z random numbers between a chosen minimum and maximum;we could add a noise level \n",
    "    depending on the structure we are looking (e.g, more noise in the cortex than in the striatum)  \"\"\"\n",
    "        Z = (numpy.random.uniform(-level/2,level/2,Z))*Z\n",
    "        return Z"
   ]
  },
  {
   "cell_type": "markdown",
   "metadata": {
    "deletable": true,
    "editable": true
   },
   "source": [
    "# Basal Ganglia Population : Connectivity"
   ]
  },
  {
   "cell_type": "code",
   "execution_count": 6,
   "metadata": {
    "collapsed": true,
    "deletable": true,
    "editable": true
   },
   "outputs": [],
   "source": [
    "# We set up at the beggining of the program which neuron is connected to which \n",
    "# and we keep them in the appropriate list until the end\n",
    "\n",
    "CtxTha_Ji=[]\n",
    "StrCtx_Ji=[]\n",
    "StnCtx_Ji=[]\n",
    "GpiStn_Ji=[]\n",
    "GpiStr_Ji=[]\n",
    "ThaGpi_Ji=[]\n",
    "\n",
    "def connectivity_J(population_J,Co):\n",
    "    \"\"\"Return a 1-D array full of 1 or 0 depending of the probability chosen. Co is the probability \n",
    "    to find a connexion : 1=100%\"\"\"\n",
    "    \n",
    "    upgrade_j=0                             # va permettre de compter chaque iteration(jusqu'a n)\n",
    "    while upgrade_j <= n:                   # tant que j n'as pas atteint n (= le nb de neurone dans une populat°)\n",
    "        population_Ji = numpy.random.choice(2,n, p=[(1-Co),Co]) #on genere une liste de n chiffre de 1 et 0\n",
    "        population_J.append(population_Ji)      #liste correspond a la connectivité du neurone i sur le neurone j\n",
    "        upgrade_j += 1                      # on ajoute cette connectivity a une liste, puis on recommence avec le\n",
    "                                            # j suivant jusqu'a n pour avoir toute les connectivité au préalable\n",
    "    a = numpy.reshape(population_J,(n+1,n))  # on reshape notre liste pour pouvoir les transposer ensuite\n",
    "    return a.transpose()                       # !!!! rend les collones en lignes et les lignes collones\n",
    "                                               # permet de mettre dans une meme liste l'activité du neurone 1(ligne)\n",
    "                                               # dans une meme liste(j=collones): rendra plus simple le calcul des\n",
    "                                               # inputs totaux\n",
    "            \n",
    "# ici on devrais donc avoir un array avec sur les lignes les connectivité du neurone [i] \n",
    "# avec les (collones) neurones j. pour calculer la somme des inputs(Jij), il suffira de prendre \n",
    "# la liste du neurone [i] qui nous interesse et faire les operation dessus"
   ]
  },
  {
   "cell_type": "code",
   "execution_count": 7,
   "metadata": {
    "collapsed": false,
    "deletable": true,
    "editable": true
   },
   "outputs": [],
   "source": [
    "# Connectivity J\n",
    "CtxTha_J = connectivity_J(CtxTha_Ji,0.500)\n",
    "StrCtx_J = connectivity_J(StrCtx_Ji,0.909)\n",
    "StnCtx_J = connectivity_J(StnCtx_Ji,0.092)\n",
    "GpiStn_J = connectivity_J(GpiStn_Ji,0.446)\n",
    "GpiStr_J = connectivity_J(GpiStr_Ji,0.048)\n",
    "ThaGpi_J = connectivity_J(ThaGpi_Ji,0.333)"
   ]
  },
  {
   "cell_type": "markdown",
   "metadata": {
    "deletable": true,
    "editable": true
   },
   "source": [
    "# Corrected input function"
   ]
  },
  {
   "cell_type": "code",
   "execution_count": 8,
   "metadata": {
    "collapsed": false,
    "deletable": true,
    "editable": true
   },
   "outputs": [],
   "source": [
    "def Ic(Input, threshold):           # Input is a list and threshold is a float\n",
    "    \"\"\"Function returning the corrected Input(list of n neurons)\"\"\"\n",
    "    \n",
    "    r=[x-threshold for x in Input]  # for item in the list, substract thresold and creat a new list\n",
    "    r1=[]                           # new list to append corrected value\n",
    "    for item in r:                   \n",
    "        if item <= 0:               #if item in list < 0, append 0 to the new list \n",
    "            r1.append(0)\n",
    "        else:                       # if not, append the value Input-threshold\n",
    "            r1.append(item)\n",
    "    return(r1)                      #return the last list of corrected inputs\n",
    "\n",
    "# ici on ferais la soustraction a la somme totale des inputs et pas a chaque synapses(ok?)"
   ]
  },
  {
   "cell_type": "markdown",
   "metadata": {
    "deletable": true,
    "editable": true
   },
   "source": [
    "# Neurons dynamics: Iteration and parameters update"
   ]
  },
  {
   "cell_type": "code",
   "execution_count": 9,
   "metadata": {
    "collapsed": true,
    "deletable": true,
    "editable": true
   },
   "outputs": [],
   "source": [
    "def UpdateActivity(m,dm): # for n neurons, we add dm of neuron i to the activity m of neuron i\n",
    "    \"\"\"Return the sum of the activity dm with the activity m\"\"\"\n",
    "    \n",
    "    UptoDateActivity=[sum(x) for x in zip(m, dm)]  # permet de faire les sommes respectives de la liste m(activité \n",
    "    return UptoDateActivity                        # precedente)\n",
    "                                                   # et de la variation dm puis de réatribuer cette valeur a m"
   ]
  },
  {
   "cell_type": "markdown",
   "metadata": {
    "deletable": true,
    "editable": true
   },
   "source": [
    "# Calculation of m(t-delta)"
   ]
  },
  {
   "cell_type": "code",
   "execution_count": 10,
   "metadata": {
    "collapsed": true,
    "deletable": true,
    "editable": true
   },
   "outputs": [],
   "source": [
    "# function to get the index \"-delay/dt\" in the list representing m(t-Delta) \n",
    "m = 0\n",
    "def mdelta(synapse_value,delay):\n",
    "    if t < delay:                # if the delay is the time is too small, we take m(t-delta)=0\n",
    "        m = 0\n",
    "    elif t >= delay:             # if the time is above or equal to the delay, we can find the m(t-delta)\n",
    "        m = synapse_value[int(-delay/dt)]   # ???\n",
    "    return m"
   ]
  },
  {
   "cell_type": "code",
   "execution_count": null,
   "metadata": {
    "collapsed": true,
    "deletable": true,
    "editable": true
   },
   "outputs": [],
   "source": [
    "# function to get the index \"-delay/dt\" in the list representing m(t-Delta) \n",
    "m = 0\n",
    "def mdelta(synapse_value,delay):\n",
    "    if t < delay:                # if the delay is the time is too small, we take m(t-delta)=0\n",
    "        delta=bunch[0]\n",
    "    elif t >= delay:             # if the time is above or equal to the delay, we can find the m(t-delta)\n",
    "        delta = synapse_value[int(-delay/dt)]   # ???\n",
    "    return m"
   ]
  },
  {
   "cell_type": "code",
   "execution_count": 11,
   "metadata": {
    "collapsed": false,
    "deletable": true,
    "editable": true
   },
   "outputs": [],
   "source": [
    "def ActivityDelta(bunch,container): # permet de faire la difference entre l'etat n et n-1(=t-delai) dans un array\n",
    "        \"\"\"Function giving the difference between the state n-1 and n, to calculate m(t-deltat)\"\"\"\n",
    "        \n",
    "        if it <= 1 :          # et redonne une liste des differences de chaque neurones dans un array(car en f(t));\n",
    "            delta=bunch[0]    # la fonction depend de it, l'iteration, et doit etre inclu dans une boucle\n",
    "        elif it > 1:          # dans laquelle it est incrementé de +1 \n",
    "            delta=[a_i - b_i for a_i, b_i in zip(bunch[it-1], bunch[it-2])]\n",
    "\n",
    "        container.append(delta)\n",
    "        return container            #container must be a list (M1,2,3,4,5,6)"
   ]
  },
  {
   "cell_type": "code",
   "execution_count": 12,
   "metadata": {
    "collapsed": true,
    "deletable": true,
    "editable": true
   },
   "outputs": [],
   "source": [
    "#White Gaussian Noise\n",
    "def WGnoise():\n",
    "    n = numpy.random.normal(0,1)\n",
    "    return n"
   ]
  },
  {
   "cell_type": "markdown",
   "metadata": {
    "deletable": true,
    "editable": true
   },
   "source": [
    "# Calculation of I and dm updated"
   ]
  },
  {
   "cell_type": "code",
   "execution_count": 13,
   "metadata": {
    "collapsed": true,
    "deletable": true,
    "editable": true
   },
   "outputs": [],
   "source": [
    "#Update of inputs\n",
    "                                                                                 \n",
    "def popActuI(population_I,Weight,connectivity_j,container):  \n",
    "    \"\"\"Depending on weight,connectivity and the delta activity function(m(t-deltat)),\n",
    "    returns an updated input for a unique neuron among the chosen population\"\"\"\n",
    "    \n",
    "    UpdateI = []\n",
    "    y=0\n",
    "    while y <= n:\n",
    "        InputUpdate = [x * c * Weight+ WGnoise() for x, c in zip(connectivity_j[y], container)]\n",
    "        UpdateI.append(InputUpdate)\n",
    "        population_I.append(sum(InputUpdate))    # We are taking the sum such that each value is the sum for\n",
    "        y += 1                                   # of all the inputs of one neuron. Ii(cortex) with i => neuron i\n",
    "\n",
    "    return population_I"
   ]
  },
  {
   "cell_type": "code",
   "execution_count": 14,
   "metadata": {
    "collapsed": true,
    "deletable": true,
    "editable": true
   },
   "outputs": [],
   "source": [
    "def popActuIGPI():\n",
    "    GPII=[e - i for e, i in zip(Gpi_Ie, Gpi_Ii)]\n",
    "    return GPII"
   ]
  },
  {
   "cell_type": "code",
   "execution_count": 15,
   "metadata": {
    "collapsed": false,
    "deletable": true,
    "editable": true
   },
   "outputs": [],
   "source": [
    "#Update of activities\n",
    "\n",
    "def popActuDM(PopulationM,Input,tau):\n",
    "    \"\"\"Depending on population activity, dt, the corrected input, the threshold and tau, \n",
    "    returns a small perturbation of the activity dm between the populations selected\"\"\"\n",
    "    \n",
    "    PopulationActDM =[(-m + i) * dt / tau for m, i in zip(populationM, Input)]\n",
    "    return PopulationActDM\n",
    "    \n",
    "    # l'input de Ic' est celui calculé dans la cellule du dessus=une liste de somme pour une population precise.\n",
    "    # Ic va renvoyer une liste. PopulationM est une liste.    "
   ]
  },
  {
   "cell_type": "markdown",
   "metadata": {
    "deletable": true,
    "editable": true
   },
   "source": [
    "#   ======================= Simulation Core ======================="
   ]
  },
  {
   "cell_type": "code",
   "execution_count": 16,
   "metadata": {
    "collapsed": false,
    "deletable": true,
    "editable": true
   },
   "outputs": [],
   "source": [
    "it= 0   #Number of iteration (with step dt) : a simple iteration counter\n",
    "\n",
    "time_value=[0] #we put in a list every time to retrieve them in a gradual order\n",
    "\n",
    "# Value of m(t-delta_t) calculated after each iteration ; for all population\n",
    "M1=[] #CtxTha_m(t-CtxTha_D)=0   # R1 est l'array qui contiendra toute les listes de \n",
    "M2=[] #StrCtx_m(t-StrCtx_D)=0   # difference ctxtha (!!!!!le mettre dans la boucle?!!!!!)\n",
    "M3=[] #StnCtx_m(t-StnCtx_D)=0   \n",
    "M4=[] #GpiStn_m(t-GpiStn_D)=0   \n",
    "M5=[] #GpiStr_m(t-GpiStr_D)=0   \n",
    "M6=[] #ThaGpi_m(t-ThaGpi_D)=0   \n",
    "# transformation en liste qui contiendra toute les valeurs dont le delai a été soustrait\n",
    "#servira a faire les operations par la suite: 1ere valeurs = neurones 1 , 2 v=n2, etc"
   ]
  },
  {
   "cell_type": "code",
   "execution_count": 17,
   "metadata": {
    "collapsed": false,
    "deletable": true,
    "editable": true
   },
   "outputs": [
    {
     "ename": "IndexError",
     "evalue": "index 2 is out of bounds for axis 0 with size 2",
     "output_type": "error",
     "traceback": [
      "\u001b[0;31m---------------------------------------------------------------------------\u001b[0m",
      "\u001b[0;31mIndexError\u001b[0m                                Traceback (most recent call last)",
      "\u001b[0;32m<ipython-input-17-b613bbc5299e>\u001b[0m in \u001b[0;36m<module>\u001b[0;34m()\u001b[0m\n\u001b[1;32m     71\u001b[0m \u001b[0;31m# Inputs:\u001b[0m\u001b[0;34m\u001b[0m\u001b[0;34m\u001b[0m\u001b[0m\n\u001b[1;32m     72\u001b[0m \u001b[0;34m\u001b[0m\u001b[0m\n\u001b[0;32m---> 73\u001b[0;31m     \u001b[0mCortex_I\u001b[0m   \u001b[0;34m=\u001b[0m \u001b[0mpopActuI\u001b[0m\u001b[0;34m(\u001b[0m\u001b[0mCortex_I\u001b[0m\u001b[0;34m,\u001b[0m\u001b[0;36m1\u001b[0m\u001b[0;34m,\u001b[0m\u001b[0mCtxTha_J\u001b[0m\u001b[0;34m,\u001b[0m\u001b[0mM1\u001b[0m\u001b[0;34m)\u001b[0m \u001b[0;31m# adapter les connectivity and container(t-deltat)\u001b[0m\u001b[0;34m\u001b[0m\u001b[0m\n\u001b[0m\u001b[1;32m     74\u001b[0m     \u001b[0mStriatum_I\u001b[0m \u001b[0;34m=\u001b[0m \u001b[0mpopActuI\u001b[0m\u001b[0;34m(\u001b[0m\u001b[0mStriatum_I\u001b[0m\u001b[0;34m,\u001b[0m\u001b[0;36m1\u001b[0m\u001b[0;34m,\u001b[0m\u001b[0mStrCtx_J\u001b[0m\u001b[0;34m,\u001b[0m\u001b[0mM2\u001b[0m\u001b[0;34m)\u001b[0m\u001b[0;34m\u001b[0m\u001b[0m\n\u001b[1;32m     75\u001b[0m     \u001b[0mStn_I\u001b[0m      \u001b[0;34m=\u001b[0m \u001b[0mpopActuI\u001b[0m\u001b[0;34m(\u001b[0m\u001b[0mStn_I\u001b[0m\u001b[0;34m,\u001b[0m\u001b[0;36m1\u001b[0m\u001b[0;34m,\u001b[0m\u001b[0mStnCtx_J\u001b[0m\u001b[0;34m,\u001b[0m\u001b[0mM3\u001b[0m\u001b[0;34m)\u001b[0m\u001b[0;34m\u001b[0m\u001b[0m\n",
      "\u001b[0;32m<ipython-input-13-b30511f5907e>\u001b[0m in \u001b[0;36mpopActuI\u001b[0;34m(population_I, Weight, connectivity_j, container)\u001b[0m\n\u001b[1;32m      8\u001b[0m     \u001b[0my\u001b[0m\u001b[0;34m=\u001b[0m\u001b[0;36m0\u001b[0m\u001b[0;34m\u001b[0m\u001b[0m\n\u001b[1;32m      9\u001b[0m     \u001b[0;32mwhile\u001b[0m \u001b[0my\u001b[0m \u001b[0;34m<=\u001b[0m \u001b[0mn\u001b[0m\u001b[0;34m:\u001b[0m\u001b[0;34m\u001b[0m\u001b[0m\n\u001b[0;32m---> 10\u001b[0;31m         \u001b[0mInputUpdate\u001b[0m \u001b[0;34m=\u001b[0m \u001b[0;34m[\u001b[0m\u001b[0mx\u001b[0m \u001b[0;34m*\u001b[0m \u001b[0mc\u001b[0m \u001b[0;34m*\u001b[0m \u001b[0mWeight\u001b[0m\u001b[0;34m+\u001b[0m \u001b[0mWGnoise\u001b[0m\u001b[0;34m(\u001b[0m\u001b[0;34m)\u001b[0m \u001b[0;32mfor\u001b[0m \u001b[0mx\u001b[0m\u001b[0;34m,\u001b[0m \u001b[0mc\u001b[0m \u001b[0;32min\u001b[0m \u001b[0mzip\u001b[0m\u001b[0;34m(\u001b[0m\u001b[0mconnectivity_j\u001b[0m\u001b[0;34m[\u001b[0m\u001b[0my\u001b[0m\u001b[0;34m]\u001b[0m\u001b[0;34m,\u001b[0m \u001b[0mcontainer\u001b[0m\u001b[0;34m)\u001b[0m\u001b[0;34m]\u001b[0m\u001b[0;34m\u001b[0m\u001b[0m\n\u001b[0m\u001b[1;32m     11\u001b[0m         \u001b[0mUpdateI\u001b[0m\u001b[0;34m.\u001b[0m\u001b[0mappend\u001b[0m\u001b[0;34m(\u001b[0m\u001b[0mInputUpdate\u001b[0m\u001b[0;34m)\u001b[0m\u001b[0;34m\u001b[0m\u001b[0m\n\u001b[1;32m     12\u001b[0m         \u001b[0mpopulation_I\u001b[0m\u001b[0;34m.\u001b[0m\u001b[0mappend\u001b[0m\u001b[0;34m(\u001b[0m\u001b[0msum\u001b[0m\u001b[0;34m(\u001b[0m\u001b[0mInputUpdate\u001b[0m\u001b[0;34m)\u001b[0m\u001b[0;34m)\u001b[0m    \u001b[0;31m# We are taking the sum such that each value is the sum for\u001b[0m\u001b[0;34m\u001b[0m\u001b[0m\n",
      "\u001b[0;31mIndexError\u001b[0m: index 2 is out of bounds for axis 0 with size 2"
     ]
    }
   ],
   "source": [
    "while t < duration:    # when the time is strictly under 1 seconde\n",
    "    \n",
    "    t = t+dt           #for each iteration, add (the step) dt to the time\n",
    "    time_value.append(t)     #command to add every time used in a list\n",
    "    it += 1            #for each iteration, add 1 to the iteration counter\n",
    "    \n",
    "# Update of m for n activities and n dm for each population=> on obtiens une liste dont chaque nombre\n",
    "# represente l'activité d'un neurone dans la population concernée\n",
    "    \n",
    "    CtxTha_m = UpdateActivity(CtxTha_m,CtxTha_dm)    # m est une liste et dm doit etre une liste!\n",
    "    StnCtx_m = UpdateActivity(StnCtx_m,StnCtx_dm)    # pour pouvoir en faire la somme via la fonction\n",
    "    StrCtx_m = UpdateActivity(StrCtx_m,StrCtx_dm)    # UpdateActivity\n",
    "    GpiStr_m = UpdateActivity(GpiStr_m,GpiStr_dm)\n",
    "    GpiStn_m = UpdateActivity(GpiStn_m,GpiStn_dm)\n",
    "    ThaGpi_m = UpdateActivity(ThaGpi_m,ThaGpi_dm)\n",
    "    \n",
    "    \n",
    "    \n",
    "# on creer les listes de listes d'activité, pour chaque population\n",
    "                                                    \n",
    "    CtxTha_mbunch = []        # on creer les listes qui vont contenir les listes d'activités en fonction du\n",
    "    StnCtx_mbunch = []        # temps/iteration\n",
    "    StrCtx_mbunch = [] \n",
    "    GpiStr_mbunch = [] \n",
    "    GpiStn_mbunch = []   # !!!!! on ajoute 0 initialement pour que sa corresponde a it=+1 pour les calculs????\n",
    "    ThaGpi_mbunch = [] \n",
    "    \n",
    "    \n",
    "    CtxTha_mbunch.append(CtxTha_m)   # une liste qui repertorie les activités dans le temps\n",
    "    StnCtx_mbunch.append(StnCtx_m)   # de chaque neurones(en liste); \n",
    "    StrCtx_mbunch.append(StrCtx_m)  \n",
    "    GpiStr_mbunch.append(GpiStr_m)\n",
    "    GpiStn_mbunch.append(GpiStn_m)\n",
    "    ThaGpi_mbunch.append(ThaGpi_m)\n",
    "    \n",
    "    \n",
    "    #CtxTha_mbunchA = numpy.array(CtxTha_mbunch)\n",
    "    #StnCtx_mbunchA = numpy.array(StnCtx_mbunch)\n",
    "    #StrCtx_mbunchA = numpy.array(StrCtx_mbunch)\n",
    "    #GpiStr_mbunchA = numpy.array(GpiStr_mbunch)\n",
    "    #GpiStn_mbunchA = numpy.array(GpiStn_mbunch)\n",
    "    #ThaGpi_mbunchA = numpy.array(ThaGpi_mbunch)     \n",
    "    \n",
    "    \n",
    "    numpy.reshape(CtxTha_mbunch,(it-1,it))   # on creer des array avec n collones et it(=iteration counter) lignes\n",
    "    numpy.reshape(StnCtx_mbunch,(it-1,it))   # qui vont nous servir ensuite a localiser un neurone precis\n",
    "    numpy.reshape(StrCtx_mbunch,(it-1,it))   # parmis les reseaux\n",
    "    numpy.reshape(GpiStr_mbunch,(it-1,it))\n",
    "    numpy.reshape(GpiStn_mbunch,(it-1,it))\n",
    "    numpy.reshape(ThaGpi_mbunch,(it-1,it))     \n",
    "    \n",
    "    \n",
    "    \n",
    "    #====> fonction pour alleger le code:\n",
    "  \n",
    "    #def Addnshape(who,add):\n",
    "    #    who.append(add)\n",
    "    #    numpy.reshape(who,(it,n))\n",
    "    # return who\n",
    "\n",
    "#je laisse en tant que liste de tout mes neurones et je sais que \n",
    "#la collone 0 de chaque ligne(=iteration) = activité de mon neurones 1 et ligne = a quel temps.\n",
    "\n",
    "\n",
    "\n",
    "\n",
    "\n",
    "################################################ WORKING LOOP ###############################################\n",
    "\n",
    "\n",
    "# Inputs:\n",
    "\n",
    "    Cortex_I   = popActuI(Cortex_I,1,CtxTha_J,M1) # adapter les connectivity and container(t-deltat)\n",
    "    Striatum_I = popActuI(Striatum_I,1,StrCtx_J,M2)  \n",
    "    Stn_I      = popActuI(Stn_I,1,StnCtx_J,M3)\n",
    "    Gpi_Ie     = popActuI(Gpi_Ie,1,GpiStn_J,M4) \n",
    "    Gpi_Ii     = popActuI(Gpi_Ii,1,GpiStr_J,M5) \n",
    "    Gpi_I      = popActuIGPI()\n",
    "    Thalamus_I = popActuI(Thalamus_I,1,ThaGpi_J,M6) \n",
    "    \n",
    "    \n",
    "# Activities:    \n",
    "    \n",
    "    CtxTha_dm = popActuDM(CtxTha_m,Thalamus_I,CtxTha_tau)\n",
    "    StrCtx_dm = popActuDM(StrCtx_m,Cortex_I,StrCtx_tau)\n",
    "    StnCtx_dm = popActuDM(StnCtx_m,Cortex_I,StnCtx_tau)\n",
    "    GpiStr_dm = popActuDM(GpiStr_m,Striatum_I,GpiStr_tau)\n",
    "    GpiStn_dm = popActuDM(GpiStn_m,Stn_I,GpiStn_tau)\n",
    "    ThaGpi_dm = popActuDM(ThaGpi_m,Gpi_I,ThaGpi_tau)\n",
    "    "
   ]
  },
  {
   "cell_type": "markdown",
   "metadata": {
    "deletable": true,
    "editable": true
   },
   "source": [
    "# Plotting results"
   ]
  },
  {
   "cell_type": "code",
   "execution_count": null,
   "metadata": {
    "collapsed": true,
    "deletable": true,
    "editable": true
   },
   "outputs": [],
   "source": [
    "#plt.plot(time_value,CtxTha_value,label='Thalamus')\n",
    "#plt.plot(time_value,StrCtx_value,label='Cortex')\n",
    "#plt.plot(time_value,StnCtx_value,label='Cortex')\n",
    "#plt.plot(time_value,GpiStn_value,label='STN')\n",
    "#plt.plot(time_value,GpiStr_value,label='Striatum')\n",
    "#plt.plot(time_value,ThaGpi_value,'k',label='Gpi')\n",
    "\n",
    "#plt.title('Activity over time')\n",
    "#plt.ylabel('Activity')\n",
    "#plt.xlabel('time')\n",
    "#plt.grid()\n",
    "\n",
    "#plt.legend(bbox_to_anchor=(1.05, 1), loc=2, borderaxespad=0.)\n",
    "\n",
    "#plt.show()"
   ]
  }
 ],
 "metadata": {
  "kernelspec": {
   "display_name": "Python 3",
   "language": "python",
   "name": "python3"
  },
  "language_info": {
   "codemirror_mode": {
    "name": "ipython",
    "version": 3
   },
   "file_extension": ".py",
   "mimetype": "text/x-python",
   "name": "python",
   "nbconvert_exporter": "python",
   "pygments_lexer": "ipython3",
   "version": "3.5.2"
  }
 },
 "nbformat": 4,
 "nbformat_minor": 0
}
