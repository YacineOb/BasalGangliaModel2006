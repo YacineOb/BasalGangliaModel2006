{
 "cells": [
  {
   "cell_type": "markdown",
   "metadata": {
    "deletable": true,
    "editable": true
   },
   "source": [
    "# Import modules"
   ]
  },
  {
   "cell_type": "code",
   "execution_count": 1,
   "metadata": {
    "collapsed": false,
    "deletable": true,
    "editable": true
   },
   "outputs": [],
   "source": [
    "# -*- coding: utf-8 -*-\n",
    "import numpy\n",
    "import random\n",
    "from matplotlib import pyplot as plt\n",
    "from math import exp\n",
    "%matplotlib inline"
   ]
  },
  {
   "cell_type": "markdown",
   "metadata": {
    "deletable": true,
    "editable": true
   },
   "source": [
    "# Initial parameters"
   ]
  },
  {
   "cell_type": "code",
   "execution_count": 2,
   "metadata": {
    "collapsed": false,
    "deletable": true,
    "editable": true
   },
   "outputs": [],
   "source": [
    "# Population size\n",
    "n = 1                             #useless here\n",
    "\n",
    "# Default Time beginning\n",
    "t=0\n",
    "\n",
    "# Default trial duration\n",
    "duration = 2.00 #second\n",
    "\n",
    "# Default Time resolution\n",
    "dt = 0.0001 #second 0.0001\n",
    " \n",
    "# Thresholds (if from paper x200) \n",
    "Cortex_h   = 20.0             \n",
    "Striatum_h = 2.0                 #depends on dopamine level, see below\n",
    "Stn_h      = -17.0              \n",
    "Gpi_h      = 20.0               \n",
    "Thalamus_h = -47.0              \n",
    "\n",
    "####################################### Weights ##########################################\n",
    "CtxTha_G = 0.97                               \n",
    "StnCtx_G = 2.0                             \n",
    "StrCtx_G = 0.45                               #depends on dopamine level, see below\n",
    "GpiStr_G = 12.0                              \n",
    "GpiStn_G = 3.4                              \n",
    "ThaGpi_G = 0.3                              \n",
    "\n",
    "\n",
    "# Time constants \n",
    "CtxTha_tau = 0.005 #second\n",
    "StnCtx_tau = 0.020 #second \"5ms for all of the synapses except synapses from cortex to STN for which it's 20ms\"\n",
    "StrCtx_tau = 0.005 #second\n",
    "GpiStr_tau = 0.005 #second\n",
    "GpiStn_tau = 0.005 #second\n",
    "ThaGpi_tau = 0.005 #second\n",
    "\n",
    "# Delays:\n",
    "CtxTha_D = 0.005\n",
    "StnCtx_D = 0.005\n",
    "StrCtx_D = 0.006\n",
    "GpiStr_D = 0.010\n",
    "GpiStn_D = 0.005\n",
    "ThaGpi_D = 0.005\n",
    "\n",
    "# inputs\n",
    "Cortex_I   = 0\n",
    "Striatum_I = 0\n",
    "Stn_I      = 0\n",
    "Gpi_I      = 0\n",
    "Gpi_Ie     = 0\n",
    "Gpi_Ii     = 0\n",
    "Thalamus_I = 0\n",
    "\n",
    "# Activities at time t:\n",
    "CtxTha_m = 0\n",
    "StnCtx_m = 0\n",
    "StrCtx_m = 0\n",
    "GpiStr_m = 0\n",
    "GpiStn_m = 0\n",
    "ThaGpi_m = 0\n",
    "\n",
    "# Activities at dt\n",
    "CtxTha_dm  = 0\n",
    "StrCtx_dm  = 0\n",
    "StnCtx_dm  = 0\n",
    "GpiStr_dm  = 0\n",
    "GpiStn_dm  = 0\n",
    "ThaGpi_dm  = 0\n",
    "\n",
    "# Connectivity J\n",
    "\n",
    "CtxTha_J = 1\n",
    "StrCtx_J = 1\n",
    "StnCtx_J = 1\n",
    "GpiStn_J = 1\n",
    "GpiStr_J = 1\n",
    "ThaGpi_J = 1\n",
    "\n",
    "# Initialization of the random generator (reproductibility !)\n",
    "numpy.random.seed(1)"
   ]
  },
  {
   "cell_type": "markdown",
   "metadata": {
    "deletable": true,
    "editable": true
   },
   "source": [
    "# Noise Function"
   ]
  },
  {
   "cell_type": "code",
   "execution_count": 3,
   "metadata": {
    "collapsed": true,
    "deletable": true,
    "editable": true
   },
   "outputs": [],
   "source": [
    "#White Gaussian Noise\n",
    "def WGnoise():\n",
    "    n = numpy.random.normal(0,1)\n",
    "    return n"
   ]
  },
  {
   "cell_type": "code",
   "execution_count": 4,
   "metadata": {
    "collapsed": false,
    "deletable": true,
    "editable": true
   },
   "outputs": [],
   "source": [
    "#Noise level (%)  = sigma from paper\n",
    "Cortex_N   =   0.030 \n",
    "Striatum_N =   0.005\n",
    "Stn_N      =   0.02\n",
    "Gpi_N      =   0.050\n",
    "Thalamus_N =   0.05\n",
    "\n",
    "def noise(Z, level):    #Z = size of the population\n",
    "    Z = (numpy.random.uniform(-level/2,level/2,Z))*Z\n",
    "    return Z"
   ]
  },
  {
   "cell_type": "markdown",
   "metadata": {
    "collapsed": true,
    "deletable": true,
    "editable": true
   },
   "source": [
    "# Corrected Input function"
   ]
  },
  {
   "cell_type": "code",
   "execution_count": 5,
   "metadata": {
    "collapsed": false,
    "deletable": true,
    "editable": true
   },
   "outputs": [],
   "source": [
    "#Function returning the corrected Input\n",
    "def Ic(Input=0,threshold=0):\n",
    "    \n",
    "    if Input - threshold <= 0:\n",
    "        return 0\n",
    "    else:\n",
    "        return (Input - threshold)"
   ]
  },
  {
   "cell_type": "markdown",
   "metadata": {
    "deletable": true,
    "editable": true
   },
   "source": [
    "# Activity at time t-Delta (delay) function"
   ]
  },
  {
   "cell_type": "code",
   "execution_count": 6,
   "metadata": {
    "collapsed": true,
    "deletable": true,
    "editable": true
   },
   "outputs": [],
   "source": [
    "# function to get the index \"-delay/dt\" in the list representing m(t-Delta) \n",
    "m = 0\n",
    "def mdelta(synapse_value,delay):\n",
    "    if t < delay:                # if the delay is the time is too small, we take m(t-delta)=0\n",
    "        m = 0\n",
    "    elif t >= delay:             # if the time is above or equal to the delay, we can find the m(t-delta)\n",
    "        m = synapse_value[int(-delay/dt)]   # ???\n",
    "    return m"
   ]
  },
  {
   "cell_type": "markdown",
   "metadata": {
    "deletable": true,
    "editable": true
   },
   "source": [
    "# ==================== Simulation Core ===================="
   ]
  },
  {
   "cell_type": "code",
   "execution_count": 7,
   "metadata": {
    "collapsed": false,
    "deletable": true,
    "editable": true
   },
   "outputs": [],
   "source": [
    "it = 0   #Number of iteration (with step dt) : a simple iteration counter\n",
    "\n",
    "time_value = [0] #we put in a list every time to retrieve them in a gradual order\n",
    "\n",
    "#we put in a list every value of activity to retrieve them in a time order; easy way to substract the delay\n",
    "CtxTha_value=[0] \n",
    "StnCtx_value=[0]\n",
    "StrCtx_value=[0]\n",
    "GpiStr_value=[0]\n",
    "GpiStn_value=[0]\n",
    "ThaGpi_value=[0]"
   ]
  },
  {
   "cell_type": "code",
   "execution_count": 8,
   "metadata": {
    "collapsed": false,
    "deletable": true,
    "editable": true
   },
   "outputs": [],
   "source": [
    "while t < duration:    # when the time is strictly under 1 seconde\n",
    "    \n",
    "    t = t+dt           #for each iteration, add (the step) dt to the time\n",
    "    it += 1            #for each iteration, add 1 to the iteration counter\n",
    "    \n",
    "# Stock activity & time :for plotting    \n",
    "    \n",
    "    time_value.append(t)     #command to add every time used in a list\n",
    "\n",
    "    CtxTha_value.append(CtxTha_m) #command to add all activities of each population in a list \n",
    "    StrCtx_value.append(StrCtx_m) #respectively ; after each iteration\n",
    "    StnCtx_value.append(StnCtx_m)\n",
    "    GpiStn_value.append(GpiStn_m)\n",
    "    GpiStr_value.append(GpiStr_m)\n",
    "    ThaGpi_value.append(ThaGpi_m) \n",
    "    \n",
    "# on va recuperer la valeur de l'activité a un temps t en reprenant l'index de la valeur \n",
    "# t-delta de la liste temps et l'utiliser pour trouver la valeur m(delta) a retrancher a notre\n",
    "# derniere valeure de m = m(t)\n",
    "    \n",
    "    CtxTha_mDelta = mdelta(CtxTha_value,CtxTha_D)\n",
    "    StrCtx_mdelta = mdelta(StrCtx_value,StrCtx_D)\n",
    "    StnCtx_mdelta = mdelta(StnCtx_value,StnCtx_D)\n",
    "    GpiStn_mdelta = mdelta(GpiStn_value,GpiStn_D)\n",
    "    GpiStr_mdelta = mdelta(GpiStr_value,GpiStr_D)\n",
    "    ThaGpi_mdelta = mdelta(ThaGpi_value,ThaGpi_D)\n",
    "    \n",
    "    \n",
    "    CtxTha_m += CtxTha_dm    # we add the activity (dm) to the global activity (m),\n",
    "    StnCtx_m += StnCtx_dm    # after a step dt ; for all population\n",
    "    StrCtx_m += StrCtx_dm    #stored in the list (\"PopulationNames\"_value)\n",
    "    GpiStr_m += GpiStr_dm\n",
    "    GpiStn_m += GpiStn_dm\n",
    "    ThaGpi_m += ThaGpi_dm\n",
    "    \n",
    "    \n",
    "#Update of inputs                                                     + external input if needed\n",
    "    Cortex_I   = CtxTha_G * CtxTha_J * CtxTha_mDelta + WGnoise()        #White gaussian Noise\n",
    "    Striatum_I = StrCtx_G * StrCtx_J * StrCtx_mdelta + WGnoise()   \n",
    "    Stn_I      = StnCtx_G * StnCtx_J * StnCtx_mdelta + WGnoise()        \n",
    "    Gpi_Ie     = GpiStn_G * GpiStn_J * GpiStn_mdelta + WGnoise()        \n",
    "    Gpi_Ii     = - GpiStr_G * GpiStr_J * GpiStr_mdelta + WGnoise()       \n",
    "    Gpi_I      = GpiStn_G * GpiStn_J * GpiStn_mdelta - GpiStr_G * GpiStr_J * GpiStr_mdelta + WGnoise() \n",
    "    Thalamus_I = - ThaGpi_G * ThaGpi_J * ThaGpi_mdelta + WGnoise()\n",
    "\n",
    "#Update of activities\n",
    "    CtxTha_dm  = dt * ( -CtxTha_m + Ic(Thalamus_I,Thalamus_h) ) / CtxTha_tau + float(noise(1, Cortex_N)) \n",
    "    StrCtx_dm  = dt * ( -StrCtx_m + Ic(Cortex_I,Cortex_h ) ) / StrCtx_tau  + float(noise(1, Striatum_N))\n",
    "    StnCtx_dm  = dt * ( -StnCtx_m + Ic(Cortex_I,Cortex_h ) ) / StnCtx_tau  + float(noise(1, Stn_N))\n",
    "    GpiStr_dm  = dt * ( -GpiStr_m + Ic(Striatum_I,Striatum_h) ) / GpiStr_tau + float(noise(1, Gpi_N))\n",
    "    GpiStn_dm  = dt * ( -GpiStn_m + Ic(Stn_I,Stn_h) ) / GpiStn_tau  + float(noise(1, Gpi_N))\n",
    "    ThaGpi_dm  = dt * ( -ThaGpi_m + Ic(Gpi_I,Gpi_h) ) / ThaGpi_tau + float(noise(1, Thalamus_N))\n"
   ]
  },
  {
   "cell_type": "markdown",
   "metadata": {
    "deletable": true,
    "editable": true
   },
   "source": [
    "# Plotting results"
   ]
  },
  {
   "cell_type": "code",
   "execution_count": 9,
   "metadata": {
    "collapsed": false,
    "deletable": true,
    "editable": true
   },
   "outputs": [
    {
     "ename": "TypeError",
     "evalue": "slice indices must be integers or None or have an __index__ method",
     "output_type": "error",
     "traceback": [
      "\u001b[0;31m---------------------------------------------------------------------------\u001b[0m",
      "\u001b[0;31mTypeError\u001b[0m                                 Traceback (most recent call last)",
      "\u001b[0;32m<ipython-input-9-de4a619af267>\u001b[0m in \u001b[0;36m<module>\u001b[0;34m()\u001b[0m\n\u001b[0;32m----> 1\u001b[0;31m \u001b[0mplt\u001b[0m\u001b[0;34m.\u001b[0m\u001b[0mplot\u001b[0m\u001b[0;34m(\u001b[0m\u001b[0mtime_value\u001b[0m\u001b[0;34m[\u001b[0m\u001b[0mlen\u001b[0m\u001b[0;34m(\u001b[0m\u001b[0mtime_value\u001b[0m\u001b[0;34m)\u001b[0m\u001b[0;34m/\u001b[0m\u001b[0;36m2\u001b[0m\u001b[0;34m:\u001b[0m\u001b[0;34m-\u001b[0m\u001b[0;36m1\u001b[0m\u001b[0;34m]\u001b[0m\u001b[0;34m,\u001b[0m\u001b[0mCtxTha_value\u001b[0m\u001b[0;34m,\u001b[0m\u001b[0mlabel\u001b[0m\u001b[0;34m=\u001b[0m\u001b[0;34m'Thalamus'\u001b[0m\u001b[0;34m)\u001b[0m\u001b[0;34m\u001b[0m\u001b[0m\n\u001b[0m\u001b[1;32m      2\u001b[0m \u001b[0mplt\u001b[0m\u001b[0;34m.\u001b[0m\u001b[0mplot\u001b[0m\u001b[0;34m(\u001b[0m\u001b[0mtime_value\u001b[0m\u001b[0;34m,\u001b[0m\u001b[0mStrCtx_value\u001b[0m\u001b[0;34m,\u001b[0m\u001b[0mlabel\u001b[0m\u001b[0;34m=\u001b[0m\u001b[0;34m'CTX->Striatum'\u001b[0m\u001b[0;34m)\u001b[0m\u001b[0;34m\u001b[0m\u001b[0m\n\u001b[1;32m      3\u001b[0m \u001b[0mplt\u001b[0m\u001b[0;34m.\u001b[0m\u001b[0mplot\u001b[0m\u001b[0;34m(\u001b[0m\u001b[0mtime_value\u001b[0m\u001b[0;34m,\u001b[0m\u001b[0mStnCtx_value\u001b[0m\u001b[0;34m,\u001b[0m\u001b[0mlabel\u001b[0m\u001b[0;34m=\u001b[0m\u001b[0;34m'CTX->STN'\u001b[0m\u001b[0;34m)\u001b[0m\u001b[0;34m\u001b[0m\u001b[0m\n\u001b[1;32m      4\u001b[0m \u001b[0mplt\u001b[0m\u001b[0;34m.\u001b[0m\u001b[0mplot\u001b[0m\u001b[0;34m(\u001b[0m\u001b[0mtime_value\u001b[0m\u001b[0;34m,\u001b[0m\u001b[0mGpiStn_value\u001b[0m\u001b[0;34m,\u001b[0m\u001b[0mlabel\u001b[0m\u001b[0;34m=\u001b[0m\u001b[0;34m'Stn'\u001b[0m\u001b[0;34m)\u001b[0m\u001b[0;34m\u001b[0m\u001b[0m\n\u001b[1;32m      5\u001b[0m \u001b[0mplt\u001b[0m\u001b[0;34m.\u001b[0m\u001b[0mplot\u001b[0m\u001b[0;34m(\u001b[0m\u001b[0mtime_value\u001b[0m\u001b[0;34m,\u001b[0m\u001b[0mGpiStr_value\u001b[0m\u001b[0;34m,\u001b[0m\u001b[0mlabel\u001b[0m\u001b[0;34m=\u001b[0m\u001b[0;34m'Str'\u001b[0m\u001b[0;34m)\u001b[0m\u001b[0;34m\u001b[0m\u001b[0m\n",
      "\u001b[0;31mTypeError\u001b[0m: slice indices must be integers or None or have an __index__ method"
     ]
    }
   ],
   "source": [
    "plt.plot(time_value,CtxTha_value,label='Thalamus')\n",
    "plt.plot(time_value,StrCtx_value,label='CTX->Striatum')\n",
    "plt.plot(time_value,StnCtx_value,label='CTX->STN')\n",
    "plt.plot(time_value,GpiStn_value,label='Stn')\n",
    "plt.plot(time_value,GpiStr_value,label='Str')\n",
    "plt.plot(time_value,ThaGpi_value,label='GPI')\n",
    "\n",
    "plt.title('Activity over time')\n",
    "plt.ylabel('Activity')\n",
    "plt.xlabel('time')\n",
    "plt.grid()\n",
    "\n",
    "plt.legend(bbox_to_anchor=(1.05, 1), loc=2, borderaxespad=0.)\n",
    "\n",
    "plt.show()"
   ]
  }
 ],
 "metadata": {
  "kernelspec": {
   "display_name": "Python 3",
   "language": "python",
   "name": "python3"
  },
  "language_info": {
   "codemirror_mode": {
    "name": "ipython",
    "version": 3
   },
   "file_extension": ".py",
   "mimetype": "text/x-python",
   "name": "python",
   "nbconvert_exporter": "python",
   "pygments_lexer": "ipython3",
   "version": "3.5.2"
  }
 },
 "nbformat": 4,
 "nbformat_minor": 0
}
