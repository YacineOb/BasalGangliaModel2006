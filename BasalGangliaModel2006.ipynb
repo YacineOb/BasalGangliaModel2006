{
 "cells": [
  {
   "cell_type": "markdown",
   "metadata": {
    "deletable": true,
    "editable": true
   },
   "source": [
    "# Import modules"
   ]
  },
  {
   "cell_type": "code",
   "execution_count": 1,
   "metadata": {
    "collapsed": false,
    "deletable": true,
    "editable": true
   },
   "outputs": [],
   "source": [
    "# -*- coding: utf-8 -*-\n",
    "import numpy\n",
    "import random\n",
    "from matplotlib import pyplot as plt\n",
    "from math import exp\n",
    "%matplotlib inline"
   ]
  },
  {
   "cell_type": "markdown",
   "metadata": {
    "deletable": true,
    "editable": true
   },
   "source": [
    "# Initial parameters"
   ]
  },
  {
   "cell_type": "code",
   "execution_count": 2,
   "metadata": {
    "collapsed": false,
    "deletable": true,
    "editable": true
   },
   "outputs": [],
   "source": [
    "# Population size\n",
    "n = 1\n",
    "\n",
    "# Default Time beginning\n",
    "t=0\n",
    "\n",
    "# Default trial duration\n",
    "duration = 0.5 #second\n",
    "\n",
    "# Default Time resolution\n",
    "dt = 0.0001 #second 0.0001\n",
    " \n",
    "# Thresholds (if from paper x200) \n",
    "Cortex_h   = 1             \n",
    "Striatum_h = 10                 #depends of dopamine level, see below\n",
    "Stn_h      = -15            \n",
    "Gpi_h      = -30             \n",
    "Thalamus_h = -15            \n",
    "\n",
    "# Weights\n",
    "CtxTha_G = 1.7                               \n",
    "StnCtx_G = 1.7                             \n",
    "StrCtx_G = 1.7                               #depends on dopamine level, see below\n",
    "GpiStr_G = 1.7                              \n",
    "GpiStn_G = 1.7                              \n",
    "ThaGpi_G = 1.7                              \n",
    "\n",
    "\n",
    "# Time constants \n",
    "CtxTha_tau = 0.005 #second\n",
    "StnCtx_tau = 0.020 #second \"5ms for all of the synapses except synapses from cortex to STN for which it's 20ms\"\n",
    "StrCtx_tau = 0.005 #second\n",
    "GpiStr_tau = 0.005 #second\n",
    "GpiStn_tau = 0.005 #second\n",
    "ThaGpi_tau = 0.005 #second\n",
    "\n",
    "# Delays:\n",
    "CtxTha_D = 0.005\n",
    "StnCtx_D = 0.005\n",
    "StrCtx_D = 0.006\n",
    "GpiStr_D = 0.010\n",
    "GpiStn_D = 0.005\n",
    "ThaGpi_D = 0.005\n",
    "\n",
    "# inputs\n",
    "Cortex_I   = 0\n",
    "Striatum_I = 0\n",
    "Stn_I      = 0\n",
    "Gpi_I      = 0\n",
    "Gpi_Ie     = 0\n",
    "Gpi_Ii     = 0\n",
    "Thalamus_I = 0\n",
    "\n",
    "# Activities at time t:\n",
    "CtxTha_m = 0\n",
    "StnCtx_m = 0\n",
    "StrCtx_m = 0\n",
    "GpiStr_m = 0\n",
    "GpiStn_m = 0\n",
    "ThaGpi_m = 0\n",
    "\n",
    "# Activities at dt\n",
    "CtxTha_dm  = 0\n",
    "StrCtx_dm  = 0\n",
    "StnCtx_dm  = 0\n",
    "GpiStr_dm  = 0\n",
    "GpiStn_dm  = 0\n",
    "ThaGpi_dm  = 0\n",
    "\n",
    "# Connectivity J\n",
    "\n",
    "CtxTha_J = 1\n",
    "StrCtx_J = 1\n",
    "StnCtx_J = 1\n",
    "GpiStn_J = 1\n",
    "GpiStr_J = 1\n",
    "ThaGpi_J = 1\n",
    "\n",
    "# Initialization of the random generator (reproductibility !)\n",
    "numpy.random.seed(1)"
   ]
  },
  {
   "cell_type": "markdown",
   "metadata": {
    "deletable": true,
    "editable": true
   },
   "source": [
    "# Dopamine dependency : Weight & Threshold"
   ]
  },
  {
   "cell_type": "code",
   "execution_count": 3,
   "metadata": {
    "collapsed": false,
    "deletable": true,
    "editable": true
   },
   "outputs": [],
   "source": [
    "# relative level of Striatal Dopamine Vs Normal (%)\n",
    "\n",
    "#def Striatum_Dh(D):                                                  #function calculating the Striatum \n",
    "#    Striatum_h = -0.02 + 0.03 * (1-(1.1/(1+0.1*exp(-0.03*(D-100))))) #Treshold depending on the relative \n",
    "#    return Striatum_h                                                #Dopamine level D (%)\n",
    "\n",
    "#def StrCtx_DG(D):                          #function calculating the Cortex_Striatum Weight \n",
    "#    StrCtx_G = 0.75/(1+exp(-0.09*(D-60)))  #depending on the relative Dopamine level D (%)\n",
    "#    return StrCtx_G"
   ]
  },
  {
   "cell_type": "code",
   "execution_count": 4,
   "metadata": {
    "collapsed": false,
    "deletable": true,
    "editable": true
   },
   "outputs": [],
   "source": [
    "#Plotting the results to check the value\n",
    "\n",
    "#x=0\n",
    "#DA_Level=[]\n",
    "#Weight_Calculated=[]\n",
    "#StrTh_Calculated=[]\n",
    "\n",
    "#while x < 100:\n",
    "#    x=x+1\n",
    "#    DA_Level.append(x)\n",
    "\n",
    "#    f=StrCtx_DG(x)\n",
    "#    Weight_Calculated.append(f)\n",
    "    \n",
    "#    h=Striatum_Dh(x)\n",
    "#    StrTh_Calculated.append(h)\n",
    "    \n",
    "#plt.figure(1)\n",
    "#plt.subplot(211)\n",
    "#plt.plot(DA_Level,Weight_Calculated,'b--')\n",
    "#plt.ylabel('Weight')\n",
    "#plt.xlabel('DA level')\n",
    "#plt.grid()\n",
    "\n",
    "#plt.subplot(212)\n",
    "#plt.plot(DA_Level,StrTh_Calculated, 'r--')\n",
    "#plt.ylabel('Threshold_Value')\n",
    "#plt.xlabel('DA level')\n",
    "#plt.grid()\n",
    "\n",
    "#plt.show()"
   ]
  },
  {
   "cell_type": "markdown",
   "metadata": {
    "deletable": true,
    "editable": true
   },
   "source": [
    "# Noise Function"
   ]
  },
  {
   "cell_type": "code",
   "execution_count": 5,
   "metadata": {
    "collapsed": true,
    "deletable": true,
    "editable": true
   },
   "outputs": [],
   "source": [
    "#Noise level (%)\n",
    "Cortex_N   =   2.00   #*200\n",
    "Striatum_N =   0.20\n",
    "Stn_N      =   0.20\n",
    "Gpi_N      =   6.00\n",
    "Thalamus_N =   0.20"
   ]
  },
  {
   "cell_type": "code",
   "execution_count": 6,
   "metadata": {
    "collapsed": false,
    "deletable": true,
    "editable": true
   },
   "outputs": [],
   "source": [
    "def noise(Z, level):    #Z = size of the population\n",
    "    Z = (numpy.random.uniform(0,10,Z)) # or Z = (numpy.random.uniform(-level/2,level/2,Z))*Z\n",
    "    return numpy.maximum(Z,0.0)"
   ]
  },
  {
   "cell_type": "code",
   "execution_count": 7,
   "metadata": {
    "collapsed": false,
    "deletable": true,
    "editable": true
   },
   "outputs": [],
   "source": [
    "#plot of noise given by the formula above\n",
    "\n",
    "#n1 = noise(30,Cortex_N) \n",
    "#n2 = noise(30,Striatum_N) \n",
    "#n3 = noise(30,Stn_N)      \n",
    "#n4 = noise(30,Gpi_N)      \n",
    "#n5 = noise(30,Thalamus_N)\n",
    "#plt.plot(n1,'r--',label='Cortex Noise')\n",
    "#plt.plot(n2,'b--',label='Striatum Noise')\n",
    "#plt.plot(n3,'k--',label='STN Noise')\n",
    "#plt.plot(n4,'g--',label='GPI Noise')\n",
    "#plt.plot(n5,'c--',label='Thalamus Noise')\n",
    "#plt.legend(bbox_to_anchor=(1.05, 1), loc=2, borderaxespad=0.)\n",
    "#plt.show()"
   ]
  },
  {
   "cell_type": "markdown",
   "metadata": {
    "deletable": true,
    "editable": true
   },
   "source": [
    "# Corrected Input and delay activity substraction"
   ]
  },
  {
   "cell_type": "code",
   "execution_count": 8,
   "metadata": {
    "collapsed": false,
    "deletable": true,
    "editable": true
   },
   "outputs": [],
   "source": [
    "# Function returning the corrected Input\n",
    "def Ic(Input=0,threshold=0):\n",
    "    \n",
    "    if Input - threshold <= 0:\n",
    "        return 0\n",
    "    else:\n",
    "        return (Input - threshold)"
   ]
  },
  {
   "cell_type": "code",
   "execution_count": 9,
   "metadata": {
    "collapsed": true,
    "deletable": true,
    "editable": true
   },
   "outputs": [],
   "source": [
    "# Function returning the value m(t-delta) when t > delta or m(t) otherwise\n",
    "\n",
    "CtxTha_mDelta=0         # if t > delay, we use the ratio delay/dt to find the\n",
    "StnCtx_mDelta=0         # number of step we have to go back to find m(delta)\n",
    "StrCtx_mDelta=0         # we then substract that value to m(t)\n",
    "GpiStr_mDelta=0\n",
    "GpiStn_mDelta=0\n",
    "ThaGpi_mDelta=0\n",
    "\n",
    "\n",
    "\n",
    "def deltasub(pop_mDelta,synapse_value,delay):\n",
    "    if t <= delay:\n",
    "        pop_mDelta = 0\n",
    "    elif t > delay:\n",
    "        pop_mDelta = synapse_value[-1] - synapse_value[int(-1-delay/dt)]\n",
    "    return pop_mDelta"
   ]
  },
  {
   "cell_type": "markdown",
   "metadata": {
    "deletable": true,
    "editable": true
   },
   "source": [
    "# Dynamics"
   ]
  },
  {
   "cell_type": "code",
   "execution_count": 10,
   "metadata": {
    "collapsed": false,
    "deletable": true,
    "editable": true
   },
   "outputs": [],
   "source": [
    "it=0   #Number of iteration (with step dt) : a simple iteration counter\n",
    "\n",
    "time_value=[0] #we put in a list every time to retrieve them in a gradual order\n",
    "\n",
    "CtxTha_value=[0]     # we put in a list every value of activity\n",
    "StnCtx_value=[0]     # to retrieve them in a time order;\n",
    "StrCtx_value=[0]     # easy way to substract the delay\n",
    "GpiStr_value=[0]\n",
    "GpiStn_value=[0]\n",
    "ThaGpi_value=[0]"
   ]
  },
  {
   "cell_type": "code",
   "execution_count": 11,
   "metadata": {
    "collapsed": false,
    "deletable": true,
    "editable": true
   },
   "outputs": [],
   "source": [
    "while t < duration:    # when the time is strictly under 1 seconde\n",
    "    \n",
    "    t = t+dt           #for each iteration, add (the step) dt to the time\n",
    "    it += 1            #for each iteration, add 1 to the iteration counter\n",
    "    \n",
    "# Stock activity & time for plotting:    \n",
    "    \n",
    "    time_value.append(t)     #command to add every time used in a list : for the plot\n",
    "\n",
    "    CtxTha_value.append(CtxTha_m) #command to add all activities of each population in a list \n",
    "    StrCtx_value.append(StrCtx_m) #respectively ; after each iteration\n",
    "    StnCtx_value.append(StnCtx_m)\n",
    "    GpiStn_value.append(GpiStn_m)\n",
    "    GpiStr_value.append(GpiStr_m)\n",
    "    ThaGpi_value.append(ThaGpi_m) \n",
    "    \n",
    "    CtxTha_m += CtxTha_dm    # we add the activity (dm) to the global activity (m),\n",
    "    StnCtx_m += StnCtx_dm    # after a step dt ; for all population\n",
    "    StrCtx_m += StrCtx_dm    # stored then in the list (\"PopulationNames\"_value)\n",
    "    GpiStr_m += GpiStr_dm\n",
    "    GpiStn_m += GpiStn_dm\n",
    "    ThaGpi_m += ThaGpi_dm\n",
    "    \n",
    "    \n",
    "\n",
    "# the value of m(t-delta):\n",
    "\n",
    "    CtxTha_mDelta=deltasub(CtxTha_mDelta,CtxTha_value,CtxTha_D)         # if t > delay, we use the ratio delay/dt to find the\n",
    "    StnCtx_mDelta=deltasub(StnCtx_mDelta,StnCtx_value,StnCtx_D)         # number of step we have to go back to find m(delta)\n",
    "    StrCtx_mDelta=deltasub(StrCtx_mDelta,StrCtx_value,StrCtx_D)         # we then substract that value to m(t)\n",
    "    GpiStr_mDelta=deltasub(GpiStr_mDelta,GpiStr_value,GpiStr_D)\n",
    "    GpiStn_mDelta=deltasub(GpiStn_mDelta,GpiStn_value,GpiStn_D)\n",
    "    ThaGpi_mDelta=deltasub(ThaGpi_mDelta,ThaGpi_value,ThaGpi_D)\n",
    "    \n",
    "    \n",
    "# Update of inputs:\n",
    "\n",
    "    Cortex_I   = CtxTha_G * CtxTha_J * CtxTha_mDelta + float(noise(1, Cortex_N))      # + external input\n",
    "    Striatum_I = StrCtx_G * StrCtx_J * StrCtx_mDelta + float(noise(1, Striatum_N))                       \n",
    "    Stn_I      = StnCtx_G * StnCtx_J * StnCtx_mDelta + float(noise(1, Stn_N))                            \n",
    "    Gpi_Ie     = GpiStn_G * GpiStn_J * GpiStn_mDelta + float(noise(1, Gpi_N))                            \n",
    "    Gpi_Ii     = - GpiStr_G * GpiStr_J * GpiStr_mDelta + float(noise(1, Gpi_N))                           \n",
    "    Gpi_I      = GpiStn_G * GpiStn_J * GpiStn_mDelta - GpiStr_G * GpiStr_J * GpiStr_mDelta + float(noise(1, Gpi_N))    \n",
    "    Thalamus_I = - ThaGpi_G * ThaGpi_J * ThaGpi_mDelta + float(noise(1, Thalamus_N))                      \n",
    "\n",
    "# Update of activities:\n",
    "\n",
    "    CtxTha_dm  = dt * (- CtxTha_m + Ic(Thalamus_I,Thalamus_h)) / CtxTha_tau  \n",
    "    StrCtx_dm  = dt * (- StrCtx_m + Ic(Cortex_I,Cortex_h )) / StrCtx_tau\n",
    "    StnCtx_dm  = dt * (- StnCtx_m + Ic(Cortex_I,Cortex_h )) / StnCtx_tau\n",
    "    GpiStr_dm  = dt * (- GpiStr_m + Ic(Striatum_I,Striatum_h)) / GpiStr_tau\n",
    "    GpiStn_dm  = dt * (- GpiStn_m + Ic(Stn_I,Stn_h)) / GpiStn_tau\n",
    "    ThaGpi_dm  = dt * (- ThaGpi_m + Ic(Gpi_I,Gpi_h)) / ThaGpi_tau\n"
   ]
  },
  {
   "cell_type": "markdown",
   "metadata": {
    "deletable": true,
    "editable": true
   },
   "source": [
    "# Plotting results"
   ]
  },
  {
   "cell_type": "code",
   "execution_count": 12,
   "metadata": {
    "collapsed": false,
    "deletable": true,
    "editable": true
   },
   "outputs": [
    {
     "data": {
      "image/png": "[encoded data removed]",
      "text/plain": [
       "<matplotlib.figure.Figure at 0x7f1ece091438>"
      ]
     },
     "metadata": {},
     "output_type": "display_data"
    }
   ],
   "source": [
    "plt.plot(time_value,CtxTha_value,label='Thalamus')\n",
    "plt.plot(time_value,StrCtx_value,label='CTX->Striatum')\n",
    "plt.plot(time_value,StnCtx_value,label='CTX->STN')\n",
    "plt.plot(time_value,GpiStn_value,label='Stn')\n",
    "plt.plot(time_value,GpiStr_value,label='Str')\n",
    "plt.plot(time_value,ThaGpi_value,label='GPI')\n",
    "\n",
    "plt.title('Activity over time')\n",
    "plt.ylabel('Activity')\n",
    "plt.xlabel('time')\n",
    "plt.grid()\n",
    "\n",
    "plt.legend(bbox_to_anchor=(1.05, 1), loc=2, borderaxespad=0.)\n",
    "\n",
    "plt.show()"
   ]
  }
 ],
 "metadata": {
  "kernelspec": {
   "display_name": "Python 3",
   "language": "python",
   "name": "python3"
  },
  "language_info": {
   "codemirror_mode": {
    "name": "ipython",
    "version": 3
   },
   "file_extension": ".py",
   "mimetype": "text/x-python",
   "name": "python",
   "nbconvert_exporter": "python",
   "pygments_lexer": "ipython3",
   "version": "3.5.2"
  }
 },
 "nbformat": 4,
 "nbformat_minor": 0
}
